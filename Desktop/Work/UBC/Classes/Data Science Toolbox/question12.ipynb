{
 "cells": [
  {
   "cell_type": "markdown",
   "id": "d7349d27-0eba-42af-9a70-42ca7e9cde49",
   "metadata": {},
   "source": [
    "We are currently working in the following directory:"
   ]
  },
  {
   "cell_type": "code",
   "execution_count": 1,
   "id": "f51fefbb-9705-40b8-b556-89e9c8d9bc50",
   "metadata": {},
   "outputs": [
    {
     "name": "stdout",
     "output_type": "stream",
     "text": [
      "/Users/morikadeangelis_1/Desktop/Work/UBC/Classes/Data Science Toolbox\n"
     ]
    }
   ],
   "source": [
    "!pwd"
   ]
  },
  {
   "cell_type": "markdown",
   "id": "2877605c-b6f3-4a76-90d0-2b3f890dda47",
   "metadata": {},
   "source": [
    "To time how long it takes to run a Python cell, we could use the `timeit` command inside a cell as is shown below:\n",
    "\n",
    "```python\n",
    "import timeit\n",
    "\n",
    "# Code to time\n",
    "for i in range(1_000_000):\n",
    "    i**2\n",
    "\n",
    "# Timing the code\n",
    "print(timeit.timeit('for i in range(1_000_000): i**2', number=1))\n"
   ]
  },
  {
   "cell_type": "code",
   "execution_count": 2,
   "id": "938cf1b3-9a37-40ba-913b-cc7e0d013e69",
   "metadata": {},
   "outputs": [
    {
     "name": "stdout",
     "output_type": "stream",
     "text": [
      "[NbConvertApp] Converting notebook question12.ipynb to html\n",
      "[NbConvertApp] Writing 272108 bytes to question12.html\n"
     ]
    }
   ],
   "source": [
    "!jupyter nbconvert --to html --TemplateExporter.exclude_input=True question12.ipynb"
   ]
  },
  {
   "cell_type": "code",
   "execution_count": null,
   "id": "f90e19ed-9c26-4cbf-b34d-9ff1f0cb36b0",
   "metadata": {},
   "outputs": [],
   "source": []
  }
 ],
 "metadata": {
  "kernelspec": {
   "display_name": "Python [conda env:jupyterlab_practice]",
   "language": "python",
   "name": "conda-env-jupyterlab_practice-py"
  },
  "language_info": {
   "codemirror_mode": {
    "name": "ipython",
    "version": 3
   },
   "file_extension": ".py",
   "mimetype": "text/x-python",
   "name": "python",
   "nbconvert_exporter": "python",
   "pygments_lexer": "ipython3",
   "version": "3.12.2"
  }
 },
 "nbformat": 4,
 "nbformat_minor": 5
}
