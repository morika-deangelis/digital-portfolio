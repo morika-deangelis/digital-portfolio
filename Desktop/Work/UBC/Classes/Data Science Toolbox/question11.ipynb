{
 "cells": [
  {
   "cell_type": "markdown",
   "id": "d16e7ed2-d58c-4925-96d1-769773a2fe1f",
   "metadata": {},
   "source": [
    "# Morika DeAngelis\n",
    "Notebook for assignment 7"
   ]
  },
  {
   "cell_type": "code",
   "execution_count": 1,
   "id": "d343bd73-e6d1-4681-8084-220f04ba6f18",
   "metadata": {},
   "outputs": [
    {
     "name": "stdout",
     "output_type": "stream",
     "text": [
      "5.0\n"
     ]
    }
   ],
   "source": [
    "def compute_mean(values):\n",
    "    \"\"\"\n",
    "    Calculate the mean of a list of numbers.\n",
    "    \"\"\"\n",
    "    return sum(values) / len(values)\n",
    "\n",
    "# Call the function with a list of numbers and print the result\n",
    "print(compute_mean([2, 4, 6, 8]))"
   ]
  },
  {
   "cell_type": "markdown",
   "id": "0fece0a3-1a0f-4355-b3ac-f991075a9af5",
   "metadata": {},
   "source": [
    "The code written above defines a Python function `compute_mean` that calculates the mean of a list of numbers. The function uses a list of numeric values as input, then calculates the sum of these values, and finally divides the sum by the number of values in the list to find the mean. \n",
    "\n",
    "The formula for the mean of a list of numbers \\( x_1, x_2, \\ldots, x_n \\) is written as:\n",
    "\n",
    "\\[\n",
    "\\text{mean} = \\frac{x_1 + x_2 + \\cdots + x_n}{n}\n",
    "\\]\n",
    "\n",
    "The mean can also be written as:\n",
    "\n",
    "\\[\n",
    "\\text{mean} = \\frac{\\sum_{i=1}^{n} x_i}{n}\n",
    "\\]"
   ]
  },
  {
   "cell_type": "markdown",
   "id": "e34578cd-c679-4181-8781-648b28f28d75",
   "metadata": {},
   "source": [
    "https://github.com/morika-deangelis/jupyterlab_practice/blob/8751d2d23c1f870236cae8cb63962a6e436c7c41/Screen%20Shot%202024-08-04%20at%201.58.25%20AM.png"
   ]
  },
  {
   "cell_type": "code",
   "execution_count": null,
   "id": "b53ce201-862c-4ec3-939c-3d3178aabeed",
   "metadata": {},
   "outputs": [],
   "source": []
  }
 ],
 "metadata": {
  "kernelspec": {
   "display_name": "Python [conda env:jupyterlab_practice]",
   "language": "python",
   "name": "conda-env-jupyterlab_practice-py"
  },
  "language_info": {
   "codemirror_mode": {
    "name": "ipython",
    "version": 3
   },
   "file_extension": ".py",
   "mimetype": "text/x-python",
   "name": "python",
   "nbconvert_exporter": "python",
   "pygments_lexer": "ipython3",
   "version": "3.12.2"
  }
 },
 "nbformat": 4,
 "nbformat_minor": 5
}
